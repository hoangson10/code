{
  "nbformat": 4,
  "nbformat_minor": 0,
  "metadata": {
    "colab": {
      "provenance": [],
      "authorship_tag": "ABX9TyO1RiqOYn2T5vyOrLW7q5ao",
      "include_colab_link": true
    },
    "kernelspec": {
      "name": "python3",
      "display_name": "Python 3"
    },
    "language_info": {
      "name": "python"
    }
  },
  "cells": [
    {
      "cell_type": "markdown",
      "metadata": {
        "id": "view-in-github",
        "colab_type": "text"
      },
      "source": [
        "<a href=\"https://colab.research.google.com/github/hoangson10/code/blob/main/nhan_dien_benh_tren_cay_tao(train).ipynb\" target=\"_parent\"><img src=\"https://colab.research.google.com/assets/colab-badge.svg\" alt=\"Open In Colab\"/></a>"
      ]
    },
    {
      "cell_type": "code",
      "source": [],
      "metadata": {
        "id": "il_s1uhaw_Yh"
      },
      "execution_count": null,
      "outputs": []
    },
    {
      "cell_type": "code",
      "source": [
        "from google.colab import drive\n",
        "drive.mount('/content/drive/')"
      ],
      "metadata": {
        "colab": {
          "base_uri": "https://localhost:8080/"
        },
        "id": "mg2yXgDQDahH",
        "outputId": "e28db69e-6904-4884-c8c3-6087876c6eef"
      },
      "execution_count": null,
      "outputs": [
        {
          "output_type": "stream",
          "name": "stdout",
          "text": [
            "Drive already mounted at /content/drive/; to attempt to forcibly remount, call drive.mount(\"/content/drive/\", force_remount=True).\n"
          ]
        }
      ]
    },
    {
      "cell_type": "code",
      "source": [
        "import tensorflow as tf\n",
        "import matplotlib.pyplot as plt\n",
        "import numpy as np\n",
        "from keras import models\n",
        "from keras.models import Sequential\n",
        "from keras.layers import Dense, Activation, Dropout, Conv2D, MaxPooling2D, Flatten\n",
        "from tensorflow.keras.models import load_model\n",
        "from tensorflow.keras.utils import load_img, img_to_array"
      ],
      "metadata": {
        "id": "27qVIU9NDapY"
      },
      "execution_count": null,
      "outputs": []
    },
    {
      "cell_type": "code",
      "source": [
        "train_image = '/content/drive/MyDrive/codeAI/final_project_AI/data/train'\n",
        "valid_image = '/content/drive/MyDrive/codeAI/final_project_AI/data/validation'"
      ],
      "metadata": {
        "id": "hKLBcDaMDRXs"
      },
      "execution_count": null,
      "outputs": []
    },
    {
      "cell_type": "code",
      "source": [
        "from tensorflow.keras.preprocessing.image import ImageDataGenerator\n",
        "train_datagen=ImageDataGenerator(rescale=1./255, shear_range=0.2, zoom_range=0.2, horizontal_flip=True)\n",
        "validation_datagen=ImageDataGenerator(rescale=1./255, shear_range=0.2, zoom_range=0.2, horizontal_flip=True)"
      ],
      "metadata": {
        "id": "K0B_Lt5aWPgq"
      },
      "execution_count": null,
      "outputs": []
    },
    {
      "cell_type": "code",
      "source": [
        "train_set = train_datagen.flow_from_directory(train_image,target_size=(200,200),class_mode='categorical')\n",
        "validation_set = validation_datagen.flow_from_directory(valid_image,\n",
        "                                                        target_size=(200,200),class_mode='categorical')"
      ],
      "metadata": {
        "colab": {
          "base_uri": "https://localhost:8080/"
        },
        "id": "c1h58jKNWY1c",
        "outputId": "47ff9ff5-6cef-4505-cb1d-17b8495e8c58"
      },
      "execution_count": null,
      "outputs": [
        {
          "output_type": "stream",
          "name": "stdout",
          "text": [
            "Found 1638 images belonging to 4 classes.\n",
            "Found 484 images belonging to 4 classes.\n"
          ]
        }
      ]
    },
    {
      "cell_type": "code",
      "source": [
        "x_train,y_train=next(train_set)"
      ],
      "metadata": {
        "id": "pNWQdaNHWhEU"
      },
      "execution_count": null,
      "outputs": []
    },
    {
      "cell_type": "code",
      "source": [
        "Model = models.Sequential()\n",
        "Model.add(Conv2D(32,kernel_size=(3,3),activation='relu',input_shape=(200,200,3),padding='same'))\n",
        "Model.add(MaxPooling2D((2,2),padding='same'))\n",
        "Model.add(Conv2D(64,kernel_size=(3,3),activation='relu',padding='same'))\n",
        "\n",
        "Model.add(MaxPooling2D((2,2),padding='same'))\n",
        "Model.add(Conv2D(128,kernel_size=(3,3),activation='relu',padding='same'))\n",
        "\n",
        "Model.add(MaxPooling2D((2,2),padding='same'))\n",
        "Model.add(Flatten())\n",
        "Model.add(Dense(128,activation='relu'))\n",
        "Model.add(Dense(4,activation='softmax'))"
      ],
      "metadata": {
        "id": "2Tj1Wmk0Wi_K"
      },
      "execution_count": null,
      "outputs": []
    },
    {
      "cell_type": "code",
      "source": [
        "Model.compile(optimizer='Adam',loss = \"categorical_crossentropy\", metrics=[\"accuracy\"])"
      ],
      "metadata": {
        "id": "Ya7I_x-SXKHx"
      },
      "execution_count": null,
      "outputs": []
    },
    {
      "cell_type": "code",
      "source": [
        "history=Model.fit(train_set,epochs=100,batch_size=128,verbose=1, validation_data=validation_set)"
      ],
      "metadata": {
        "colab": {
          "base_uri": "https://localhost:8080/"
        },
        "id": "oV-TnEN3XigX",
        "outputId": "fa9f1ab0-60fa-48ba-ff08-3f4e8a63a64d"
      },
      "execution_count": null,
      "outputs": [
        {
          "output_type": "stream",
          "name": "stdout",
          "text": [
            "Epoch 1/100\n",
            "52/52 [==============================] - 454s 9s/step - loss: 1.1596 - accuracy: 0.5665 - val_loss: 0.6681 - val_accuracy: 0.7665\n",
            "Epoch 2/100\n",
            "52/52 [==============================] - 174s 3s/step - loss: 0.5230 - accuracy: 0.8040 - val_loss: 0.4771 - val_accuracy: 0.8306\n",
            "Epoch 3/100\n",
            "52/52 [==============================] - 171s 3s/step - loss: 0.3695 - accuracy: 0.8669 - val_loss: 0.4731 - val_accuracy: 0.8079\n",
            "Epoch 4/100\n",
            "52/52 [==============================] - 173s 3s/step - loss: 0.3238 - accuracy: 0.8895 - val_loss: 0.3610 - val_accuracy: 0.8678\n",
            "Epoch 5/100\n",
            "52/52 [==============================] - 174s 3s/step - loss: 0.3254 - accuracy: 0.8864 - val_loss: 0.3361 - val_accuracy: 0.8843\n",
            "Epoch 6/100\n",
            "52/52 [==============================] - 170s 3s/step - loss: 0.3031 - accuracy: 0.8901 - val_loss: 0.3727 - val_accuracy: 0.8802\n",
            "Epoch 7/100\n",
            "52/52 [==============================] - 170s 3s/step - loss: 0.2358 - accuracy: 0.9145 - val_loss: 0.2767 - val_accuracy: 0.9008\n",
            "Epoch 8/100\n",
            "52/52 [==============================] - 169s 3s/step - loss: 0.2210 - accuracy: 0.9249 - val_loss: 0.3696 - val_accuracy: 0.8719\n",
            "Epoch 9/100\n",
            "52/52 [==============================] - 170s 3s/step - loss: 0.2056 - accuracy: 0.9274 - val_loss: 0.2927 - val_accuracy: 0.9091\n",
            "Epoch 10/100\n",
            "52/52 [==============================] - 171s 3s/step - loss: 0.2358 - accuracy: 0.9182 - val_loss: 0.2618 - val_accuracy: 0.9153\n",
            "Epoch 11/100\n",
            "52/52 [==============================] - 169s 3s/step - loss: 0.1750 - accuracy: 0.9365 - val_loss: 0.2715 - val_accuracy: 0.8988\n",
            "Epoch 12/100\n",
            "52/52 [==============================] - 170s 3s/step - loss: 0.1793 - accuracy: 0.9328 - val_loss: 0.3192 - val_accuracy: 0.8905\n",
            "Epoch 13/100\n",
            "52/52 [==============================] - 171s 3s/step - loss: 0.1627 - accuracy: 0.9359 - val_loss: 0.1980 - val_accuracy: 0.9318\n",
            "Epoch 14/100\n",
            "52/52 [==============================] - 170s 3s/step - loss: 0.1940 - accuracy: 0.9298 - val_loss: 0.4578 - val_accuracy: 0.8120\n",
            "Epoch 15/100\n",
            "52/52 [==============================] - 168s 3s/step - loss: 0.2073 - accuracy: 0.9200 - val_loss: 0.2270 - val_accuracy: 0.9194\n",
            "Epoch 16/100\n",
            "52/52 [==============================] - 169s 3s/step - loss: 0.1497 - accuracy: 0.9444 - val_loss: 0.2886 - val_accuracy: 0.8843\n",
            "Epoch 17/100\n",
            "52/52 [==============================] - 168s 3s/step - loss: 0.1392 - accuracy: 0.9518 - val_loss: 0.2120 - val_accuracy: 0.9236\n",
            "Epoch 18/100\n",
            "52/52 [==============================] - 167s 3s/step - loss: 0.1198 - accuracy: 0.9591 - val_loss: 0.2742 - val_accuracy: 0.9070\n",
            "Epoch 19/100\n",
            "52/52 [==============================] - 166s 3s/step - loss: 0.0973 - accuracy: 0.9646 - val_loss: 0.1963 - val_accuracy: 0.9360\n",
            "Epoch 20/100\n",
            "52/52 [==============================] - 168s 3s/step - loss: 0.0913 - accuracy: 0.9676 - val_loss: 0.2523 - val_accuracy: 0.9277\n",
            "Epoch 21/100\n",
            "52/52 [==============================] - 168s 3s/step - loss: 0.1174 - accuracy: 0.9536 - val_loss: 0.1848 - val_accuracy: 0.9360\n",
            "Epoch 22/100\n",
            "52/52 [==============================] - 167s 3s/step - loss: 0.0872 - accuracy: 0.9689 - val_loss: 0.2292 - val_accuracy: 0.9236\n",
            "Epoch 23/100\n",
            "52/52 [==============================] - 168s 3s/step - loss: 0.0775 - accuracy: 0.9689 - val_loss: 0.2181 - val_accuracy: 0.9339\n",
            "Epoch 24/100\n",
            "52/52 [==============================] - 169s 3s/step - loss: 0.0655 - accuracy: 0.9786 - val_loss: 0.1743 - val_accuracy: 0.9318\n",
            "Epoch 25/100\n",
            "52/52 [==============================] - 169s 3s/step - loss: 0.0858 - accuracy: 0.9683 - val_loss: 0.1856 - val_accuracy: 0.9277\n",
            "Epoch 26/100\n",
            "52/52 [==============================] - 167s 3s/step - loss: 0.0788 - accuracy: 0.9713 - val_loss: 0.2287 - val_accuracy: 0.9174\n",
            "Epoch 27/100\n",
            "52/52 [==============================] - 167s 3s/step - loss: 0.0679 - accuracy: 0.9792 - val_loss: 0.2103 - val_accuracy: 0.9174\n",
            "Epoch 28/100\n",
            "52/52 [==============================] - 168s 3s/step - loss: 0.0808 - accuracy: 0.9737 - val_loss: 0.1990 - val_accuracy: 0.9298\n",
            "Epoch 29/100\n",
            "52/52 [==============================] - 169s 3s/step - loss: 0.0975 - accuracy: 0.9664 - val_loss: 0.3611 - val_accuracy: 0.8740\n",
            "Epoch 30/100\n",
            "52/52 [==============================] - 169s 3s/step - loss: 0.1536 - accuracy: 0.9438 - val_loss: 0.2156 - val_accuracy: 0.9360\n",
            "Epoch 31/100\n",
            "52/52 [==============================] - 167s 3s/step - loss: 0.0774 - accuracy: 0.9731 - val_loss: 0.3028 - val_accuracy: 0.9112\n",
            "Epoch 32/100\n",
            "52/52 [==============================] - 168s 3s/step - loss: 0.0878 - accuracy: 0.9689 - val_loss: 0.2427 - val_accuracy: 0.9360\n",
            "Epoch 33/100\n",
            "52/52 [==============================] - 167s 3s/step - loss: 0.0818 - accuracy: 0.9695 - val_loss: 0.2466 - val_accuracy: 0.9318\n",
            "Epoch 34/100\n",
            "52/52 [==============================] - 169s 3s/step - loss: 0.0548 - accuracy: 0.9853 - val_loss: 0.1528 - val_accuracy: 0.9525\n",
            "Epoch 35/100\n",
            "52/52 [==============================] - 165s 3s/step - loss: 0.0295 - accuracy: 0.9890 - val_loss: 0.2864 - val_accuracy: 0.9215\n",
            "Epoch 36/100\n",
            "52/52 [==============================] - 169s 3s/step - loss: 0.0824 - accuracy: 0.9689 - val_loss: 0.1491 - val_accuracy: 0.9504\n",
            "Epoch 37/100\n",
            "52/52 [==============================] - 167s 3s/step - loss: 0.0436 - accuracy: 0.9823 - val_loss: 0.1454 - val_accuracy: 0.9545\n",
            "Epoch 38/100\n",
            "52/52 [==============================] - 169s 3s/step - loss: 0.0625 - accuracy: 0.9799 - val_loss: 0.2759 - val_accuracy: 0.9070\n",
            "Epoch 39/100\n",
            "52/52 [==============================] - 167s 3s/step - loss: 0.0587 - accuracy: 0.9786 - val_loss: 0.2130 - val_accuracy: 0.9360\n",
            "Epoch 40/100\n",
            "52/52 [==============================] - 167s 3s/step - loss: 0.0484 - accuracy: 0.9799 - val_loss: 0.1763 - val_accuracy: 0.9401\n",
            "Epoch 41/100\n",
            "52/52 [==============================] - 167s 3s/step - loss: 0.0256 - accuracy: 0.9921 - val_loss: 0.2212 - val_accuracy: 0.9360\n",
            "Epoch 42/100\n",
            "52/52 [==============================] - 167s 3s/step - loss: 0.0342 - accuracy: 0.9902 - val_loss: 0.1588 - val_accuracy: 0.9607\n",
            "Epoch 43/100\n",
            "52/52 [==============================] - 167s 3s/step - loss: 0.0214 - accuracy: 0.9896 - val_loss: 0.1894 - val_accuracy: 0.9442\n",
            "Epoch 44/100\n",
            "52/52 [==============================] - 168s 3s/step - loss: 0.0274 - accuracy: 0.9908 - val_loss: 0.1991 - val_accuracy: 0.9360\n",
            "Epoch 45/100\n",
            "52/52 [==============================] - 167s 3s/step - loss: 0.0370 - accuracy: 0.9866 - val_loss: 0.1473 - val_accuracy: 0.9587\n",
            "Epoch 46/100\n",
            "52/52 [==============================] - 167s 3s/step - loss: 0.0221 - accuracy: 0.9939 - val_loss: 0.1461 - val_accuracy: 0.9525\n",
            "Epoch 47/100\n",
            "52/52 [==============================] - 169s 3s/step - loss: 0.0085 - accuracy: 0.9982 - val_loss: 0.1407 - val_accuracy: 0.9566\n",
            "Epoch 48/100\n",
            "52/52 [==============================] - 169s 3s/step - loss: 0.0294 - accuracy: 0.9878 - val_loss: 0.2092 - val_accuracy: 0.9504\n",
            "Epoch 49/100\n",
            "52/52 [==============================] - 168s 3s/step - loss: 0.0343 - accuracy: 0.9884 - val_loss: 0.1274 - val_accuracy: 0.9525\n",
            "Epoch 50/100\n",
            "52/52 [==============================] - 165s 3s/step - loss: 0.0281 - accuracy: 0.9902 - val_loss: 0.1761 - val_accuracy: 0.9628\n",
            "Epoch 51/100\n",
            "52/52 [==============================] - 165s 3s/step - loss: 0.0236 - accuracy: 0.9927 - val_loss: 0.1717 - val_accuracy: 0.9525\n",
            "Epoch 52/100\n",
            "52/52 [==============================] - 165s 3s/step - loss: 0.0096 - accuracy: 0.9969 - val_loss: 0.1050 - val_accuracy: 0.9628\n",
            "Epoch 53/100\n",
            "52/52 [==============================] - 165s 3s/step - loss: 0.0599 - accuracy: 0.9792 - val_loss: 0.2555 - val_accuracy: 0.9298\n",
            "Epoch 54/100\n",
            "52/52 [==============================] - 167s 3s/step - loss: 0.0408 - accuracy: 0.9860 - val_loss: 0.1201 - val_accuracy: 0.9649\n",
            "Epoch 55/100\n",
            "52/52 [==============================] - 168s 3s/step - loss: 0.0171 - accuracy: 0.9933 - val_loss: 0.1214 - val_accuracy: 0.9587\n",
            "Epoch 56/100\n",
            "52/52 [==============================] - 167s 3s/step - loss: 0.0110 - accuracy: 0.9969 - val_loss: 0.1059 - val_accuracy: 0.9711\n",
            "Epoch 57/100\n",
            "52/52 [==============================] - 167s 3s/step - loss: 0.0557 - accuracy: 0.9811 - val_loss: 0.1996 - val_accuracy: 0.9339\n",
            "Epoch 58/100\n",
            "52/52 [==============================] - 168s 3s/step - loss: 0.0343 - accuracy: 0.9860 - val_loss: 0.1418 - val_accuracy: 0.9628\n",
            "Epoch 59/100\n",
            "52/52 [==============================] - 168s 3s/step - loss: 0.0236 - accuracy: 0.9933 - val_loss: 0.1649 - val_accuracy: 0.9566\n",
            "Epoch 60/100\n",
            "52/52 [==============================] - 165s 3s/step - loss: 0.0132 - accuracy: 0.9945 - val_loss: 0.1418 - val_accuracy: 0.9525\n",
            "Epoch 61/100\n",
            "52/52 [==============================] - 167s 3s/step - loss: 0.0232 - accuracy: 0.9921 - val_loss: 0.2163 - val_accuracy: 0.9463\n",
            "Epoch 62/100\n",
            "52/52 [==============================] - 166s 3s/step - loss: 0.0225 - accuracy: 0.9927 - val_loss: 0.1033 - val_accuracy: 0.9731\n",
            "Epoch 63/100\n",
            "52/52 [==============================] - 167s 3s/step - loss: 0.0521 - accuracy: 0.9823 - val_loss: 0.2326 - val_accuracy: 0.9339\n",
            "Epoch 64/100\n",
            "52/52 [==============================] - 167s 3s/step - loss: 0.0431 - accuracy: 0.9847 - val_loss: 0.1685 - val_accuracy: 0.9504\n",
            "Epoch 65/100\n",
            "52/52 [==============================] - 165s 3s/step - loss: 0.0446 - accuracy: 0.9866 - val_loss: 0.1616 - val_accuracy: 0.9607\n",
            "Epoch 66/100\n",
            "52/52 [==============================] - 166s 3s/step - loss: 0.0494 - accuracy: 0.9829 - val_loss: 0.1088 - val_accuracy: 0.9607\n",
            "Epoch 67/100\n",
            "52/52 [==============================] - 167s 3s/step - loss: 0.0412 - accuracy: 0.9823 - val_loss: 0.2516 - val_accuracy: 0.9256\n",
            "Epoch 68/100\n",
            "52/52 [==============================] - 168s 3s/step - loss: 0.0228 - accuracy: 0.9927 - val_loss: 0.1662 - val_accuracy: 0.9566\n",
            "Epoch 69/100\n",
            "52/52 [==============================] - 166s 3s/step - loss: 0.0449 - accuracy: 0.9823 - val_loss: 0.2145 - val_accuracy: 0.9380\n",
            "Epoch 70/100\n",
            "52/52 [==============================] - 168s 3s/step - loss: 0.0301 - accuracy: 0.9884 - val_loss: 0.1761 - val_accuracy: 0.9587\n",
            "Epoch 71/100\n",
            "52/52 [==============================] - 167s 3s/step - loss: 0.0246 - accuracy: 0.9927 - val_loss: 0.1127 - val_accuracy: 0.9690\n",
            "Epoch 72/100\n",
            "52/52 [==============================] - 167s 3s/step - loss: 0.0152 - accuracy: 0.9939 - val_loss: 0.2224 - val_accuracy: 0.9463\n",
            "Epoch 73/100\n",
            "52/52 [==============================] - 163s 3s/step - loss: 0.0123 - accuracy: 0.9963 - val_loss: 0.1021 - val_accuracy: 0.9669\n",
            "Epoch 74/100\n",
            "52/52 [==============================] - 163s 3s/step - loss: 0.0030 - accuracy: 0.9994 - val_loss: 0.1787 - val_accuracy: 0.9504\n",
            "Epoch 75/100\n",
            "52/52 [==============================] - 166s 3s/step - loss: 0.0275 - accuracy: 0.9908 - val_loss: 0.1210 - val_accuracy: 0.9587\n",
            "Epoch 76/100\n",
            "52/52 [==============================] - 166s 3s/step - loss: 0.0251 - accuracy: 0.9915 - val_loss: 0.1057 - val_accuracy: 0.9752\n",
            "Epoch 77/100\n",
            "52/52 [==============================] - 167s 3s/step - loss: 0.0039 - accuracy: 0.9994 - val_loss: 0.1344 - val_accuracy: 0.9649\n",
            "Epoch 78/100\n",
            "52/52 [==============================] - 164s 3s/step - loss: 0.0154 - accuracy: 0.9963 - val_loss: 0.2423 - val_accuracy: 0.9421\n",
            "Epoch 79/100\n",
            "52/52 [==============================] - 167s 3s/step - loss: 0.0145 - accuracy: 0.9969 - val_loss: 0.1500 - val_accuracy: 0.9607\n",
            "Epoch 80/100\n",
            "52/52 [==============================] - 167s 3s/step - loss: 0.0035 - accuracy: 0.9988 - val_loss: 0.1635 - val_accuracy: 0.9649\n",
            "Epoch 81/100\n",
            "52/52 [==============================] - 165s 3s/step - loss: 0.0030 - accuracy: 0.9994 - val_loss: 0.1225 - val_accuracy: 0.9669\n",
            "Epoch 82/100\n",
            "52/52 [==============================] - 166s 3s/step - loss: 0.0012 - accuracy: 1.0000 - val_loss: 0.0908 - val_accuracy: 0.9793\n",
            "Epoch 83/100\n",
            "52/52 [==============================] - 165s 3s/step - loss: 5.4193e-04 - accuracy: 1.0000 - val_loss: 0.0880 - val_accuracy: 0.9814\n",
            "Epoch 84/100\n",
            "52/52 [==============================] - 164s 3s/step - loss: 6.1924e-04 - accuracy: 1.0000 - val_loss: 0.1002 - val_accuracy: 0.9752\n",
            "Epoch 85/100\n",
            "52/52 [==============================] - 166s 3s/step - loss: 0.0014 - accuracy: 0.9994 - val_loss: 0.1248 - val_accuracy: 0.9649\n",
            "Epoch 86/100\n",
            "52/52 [==============================] - 165s 3s/step - loss: 9.9542e-04 - accuracy: 1.0000 - val_loss: 0.1446 - val_accuracy: 0.9587\n",
            "Epoch 87/100\n",
            "52/52 [==============================] - 168s 3s/step - loss: 0.0210 - accuracy: 0.9908 - val_loss: 0.1604 - val_accuracy: 0.9607\n",
            "Epoch 88/100\n",
            "52/52 [==============================] - 170s 3s/step - loss: 0.2266 - accuracy: 0.9249 - val_loss: 0.5393 - val_accuracy: 0.8698\n",
            "Epoch 89/100\n",
            "52/52 [==============================] - 166s 3s/step - loss: 0.1242 - accuracy: 0.9518 - val_loss: 0.1694 - val_accuracy: 0.9442\n",
            "Epoch 90/100\n",
            "52/52 [==============================] - 167s 3s/step - loss: 0.0182 - accuracy: 0.9933 - val_loss: 0.1811 - val_accuracy: 0.9566\n",
            "Epoch 91/100\n",
            "52/52 [==============================] - 167s 3s/step - loss: 0.0284 - accuracy: 0.9902 - val_loss: 0.1517 - val_accuracy: 0.9607\n",
            "Epoch 92/100\n",
            "52/52 [==============================] - 165s 3s/step - loss: 0.0081 - accuracy: 0.9976 - val_loss: 0.0871 - val_accuracy: 0.9711\n",
            "Epoch 93/100\n",
            "52/52 [==============================] - 166s 3s/step - loss: 0.0787 - accuracy: 0.9774 - val_loss: 0.2623 - val_accuracy: 0.9256\n",
            "Epoch 94/100\n",
            "52/52 [==============================] - 164s 3s/step - loss: 0.0402 - accuracy: 0.9866 - val_loss: 0.1471 - val_accuracy: 0.9545\n",
            "Epoch 95/100\n",
            "52/52 [==============================] - 167s 3s/step - loss: 0.0140 - accuracy: 0.9963 - val_loss: 0.1108 - val_accuracy: 0.9690\n",
            "Epoch 96/100\n",
            "52/52 [==============================] - 166s 3s/step - loss: 0.0084 - accuracy: 0.9976 - val_loss: 0.1299 - val_accuracy: 0.9669\n",
            "Epoch 97/100\n",
            "52/52 [==============================] - 168s 3s/step - loss: 0.0059 - accuracy: 0.9982 - val_loss: 0.2219 - val_accuracy: 0.9298\n",
            "Epoch 98/100\n",
            "52/52 [==============================] - 166s 3s/step - loss: 0.0086 - accuracy: 0.9976 - val_loss: 0.1360 - val_accuracy: 0.9607\n",
            "Epoch 99/100\n",
            "52/52 [==============================] - 163s 3s/step - loss: 0.0097 - accuracy: 0.9951 - val_loss: 0.1403 - val_accuracy: 0.9649\n",
            "Epoch 100/100\n",
            "52/52 [==============================] - 165s 3s/step - loss: 0.0046 - accuracy: 0.9988 - val_loss: 0.1402 - val_accuracy: 0.9711\n"
          ]
        }
      ]
    },
    {
      "cell_type": "code",
      "source": [
        "Model.save('nhan_dien_benh_tren_cay_tao.h5')"
      ],
      "metadata": {
        "id": "ozRqKfbRXs5e"
      },
      "execution_count": null,
      "outputs": []
    },
    {
      "cell_type": "code",
      "source": [
        "metric = Model.evaluate(x_train,y_train,verbose=2)\n",
        "print('sai so',metric[0])\n",
        "print('do chinh xac',metric[1])"
      ],
      "metadata": {
        "colab": {
          "base_uri": "https://localhost:8080/"
        },
        "id": "KQz2YAInYLoH",
        "outputId": "06bf4e32-bbeb-46d1-8ebc-70faf25129be"
      },
      "execution_count": null,
      "outputs": [
        {
          "output_type": "stream",
          "name": "stdout",
          "text": [
            "1/1 - 1s - loss: 0.0013 - accuracy: 1.0000 - 773ms/epoch - 773ms/step\n",
            "sai so 0.0013384073972702026\n",
            "do chinh xac 1.0\n"
          ]
        }
      ]
    }
  ]
}